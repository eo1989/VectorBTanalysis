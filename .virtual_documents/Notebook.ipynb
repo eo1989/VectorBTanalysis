import pandas as pd

data = pd.read_excel("./NASDAQ-100-Stock-Tickers-List.xlsx", usecols=)
data


data.sheet_names


df = data.parse().head(10)


cols1 = list(df)


df.dropna(1)






